{
 "cells": [
  {
   "cell_type": "code",
   "execution_count": 31,
   "metadata": {},
   "outputs": [],
   "source": [
    "from docx import Document"
   ]
  },
  {
   "cell_type": "markdown",
   "metadata": {},
   "source": [
    "## Main class"
   ]
  },
  {
   "cell_type": "code",
   "execution_count": 25,
   "metadata": {},
   "outputs": [],
   "source": [
    "\n",
    "from docx import Document\n",
    "from datetime import datetime\n",
    "from docx.enum.text import WD_PARAGRAPH_ALIGNMENT\n",
    "class CoverLetter:\n",
    "    \"\"\"\n",
    "    Fields:\n",
    "        - first_name (str)\n",
    "        - last_name (str)\n",
    "        - address (str): including building/APT number\n",
    "        - city (str)\n",
    "        - state (str)\n",
    "        - zip (str)\n",
    "        - email (str)\n",
    "        - phone_number (str): any format\n",
    "        - company_name (str)\n",
    "        - job_title (str)\n",
    "        - unique_para (str): User-defined unique paragraph extension for the specific role. \n",
    "            (f\"I am excited to apply for the {self.job_title} position at {self.company_name} \n",
    "            is already the first line of this paragraph. \n",
    "        - body (list[str]): strings for each paragraph \n",
    "        \n",
    "    \n",
    "    Returns: An automated customized cover letter in Microsoft Word using Python.\n",
    "    \"\"\"\n",
    "\n",
    "    def __init__(self, first_name, last_name, address, city, state, zip, email, phone_number, \n",
    "                 company_name, job_title, body, unique_para):\n",
    "        \n",
    "        self.first_name = first_name\n",
    "        self.last_name = last_name\n",
    "        self.address = address\n",
    "        self.city = city\n",
    "        self.state = state\n",
    "        self.zip = zip\n",
    "        self.email = email\n",
    "        self.phone_number = phone_number\n",
    "        self.company_name = company_name\n",
    "        self.job_title = job_title\n",
    "        self.body = body\n",
    "        self.unique_para = unique_para\n",
    "        \n",
    "\n",
    "    def generate_cover_letter(self):\n",
    "\n",
    "        doc = Document() # initializing the word document \n",
    "        heading = doc.add_heading(f'{self.first_name} {self.last_name}', level=1)\n",
    "        heading.alignment = WD_PARAGRAPH_ALIGNMENT.CENTER  # Center heading\n",
    "        contact_info = doc.add_paragraph(\n",
    "            f'{self.address} {self.city}, {self.state} {self.zip} | {self.phone_number} | {self.email}'\n",
    "        )\n",
    "        contact_info.alignment = WD_PARAGRAPH_ALIGNMENT.CENTER \n",
    "        current_date = datetime.today().strftime(\"%B %d, %Y\")  # e.g., \"July 5, 2025\"\n",
    "        doc.add_paragraph(f'\\n\\n{current_date}') \n",
    "        doc.add_paragraph(f'Dear Hiring Manager at {self.company_name},')\n",
    "        doc.add_paragraph(f\"\\nI am excited to apply for the {self.job_title} position at {self.company_name}. {self.unique_para}\")\n",
    "        for p in self.body: \n",
    "            doc.add_paragraph(p)\n",
    "        doc.add_paragraph('\\n\\nSincerely,')\n",
    "        doc.add_paragraph(f'\\n{self.first_name} {self.last_name}')\n",
    "        # \n",
    "        doc.save(f'{self.first_name}{self.last_name}{self.company_name}CoverLetter.docx')\n",
    "\n",
    "\n",
    "\n",
    "          \n",
    "    \n",
    "\n"
   ]
  },
  {
   "cell_type": "markdown",
   "metadata": {},
   "source": [
    "### Child class. If you ran the above then this will store your personal data: name and address "
   ]
  },
  {
   "cell_type": "code",
   "execution_count": 26,
   "metadata": {},
   "outputs": [],
   "source": [
    "# child class from CoverLetter\n",
    "# make sure you run CoverLetter first so that it's in memory \n",
    "class CustomCoverLetter(CoverLetter):\n",
    "    \"\"\"custom cover letters for specific individuals for different jobs.\"\"\"\n",
    "\n",
    "    def __init__(self, first_name, last_name, address, city, state, zip, email, phone_number):\n",
    "        super().__init__(first_name, last_name, address, city, state, zip, email, phone_number,\n",
    "                         company_name=None, job_title=None, body=[], unique_para=\"\")\n",
    "\n",
    "    def set_job_details(self, company_name, job_title, unique_para, body):\n",
    "        \"\"\"Stores your personal data in a child class, so that you only need to input new information.\"\"\"\n",
    "        self.company_name = company_name\n",
    "        self.job_title = job_title\n",
    "        self.unique_para = unique_para\n",
    "        self.body = body\n",
    "\n",
    "\n",
    "\n",
    "\n"
   ]
  },
  {
   "cell_type": "markdown",
   "metadata": {},
   "source": [
    "#### Assuming that you've ran the above then you can fill in your own generic data as an object below. This stores your name and address data, so that you don't need to re-enter it"
   ]
  },
  {
   "cell_type": "code",
   "execution_count": 30,
   "metadata": {},
   "outputs": [],
   "source": [
    "# new object from the CustomCoverLetter\n",
    "salty_grad_student = CustomCoverLetter(\n",
    "    first_name=\"Salty\",\n",
    "    last_name=\"GradStudent\",\n",
    "    address=\"123 Main St, Apt 4B\",\n",
    "    city=\"Kansas City\",\n",
    "    state=\"Ks\",\n",
    "    zip=\"66103\",\n",
    "    email=\"salty@kumc.edu\",\n",
    "    phone_number=\"123-456-7890\"\n",
    ") # if using the same body over and over again then you can store it here too \n",
    "\n",
    "# Let's you switch up your body paragraphs \n",
    "# Copying an pasting from an actual generic cover letter that you wrote for this kind\n",
    "# of role is recommended \n",
    "saltys_ds_body = [ # obviously put more info than this... each element is a paragraph of the cover letter \n",
    "        \"I have experience working with scalable software systems.\",\n",
    "        \"I am proficient in Python, R, and SQL.\",\n",
    "        \"I am passionate about data-driven solutions and problem-solving.\"\n",
    "    ]\n",
    "saltys_bioinformatics_body = [\n",
    "    \"I don't know biology.\", \n",
    "    \"What is a protien?\", \n",
    "    \"Why did I major in history? \"\n",
    "]\n",
    "\n",
    "\n",
    "\n",
    "salty_grad_student.set_job_details(\n",
    "    company_name=\"Tech Corp\",\n",
    "    job_title=\"Data Scientist\",\n",
    "    unique_para=\"I have a strong background in Python, R, statistics and automation.\",\n",
    "    body=saltys_ds_body\n",
    ")\n",
    "salty_grad_student.generate_cover_letter() # makes an example word doc of a cover letter"
   ]
  },
  {
   "cell_type": "code",
   "execution_count": null,
   "metadata": {},
   "outputs": [],
   "source": []
  }
 ],
 "metadata": {
  "kernelspec": {
   "display_name": "base",
   "language": "python",
   "name": "python3"
  },
  "language_info": {
   "codemirror_mode": {
    "name": "ipython",
    "version": 3
   },
   "file_extension": ".py",
   "mimetype": "text/x-python",
   "name": "python",
   "nbconvert_exporter": "python",
   "pygments_lexer": "ipython3",
   "version": "3.8.8"
  }
 },
 "nbformat": 4,
 "nbformat_minor": 2
}
